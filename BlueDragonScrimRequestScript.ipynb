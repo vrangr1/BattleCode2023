{
 "cells": [
  {
   "attachments": {},
   "cell_type": "markdown",
   "id": "e33ce7b6-55b0-4f0a-b119-5020c0683452",
   "metadata": {},
   "source": [
    "Author: Samuel Hori, Blue Dragon  \n",
    "V0.0\n",
    "Are you tired of clicking to queue matches? Do you need a complete set of matches for you (as of yet, unwritten) match analyzer). Here's an auto-scrim submitter. Have fun.\n",
    "\n",
    "This entire program is rather trivial and very easy to modify if you want but I've included some basic functionality to let you queue groups of games you might be interested in. Let me know if there are features you think should be "
   ]
  },
  {
   "cell_type": "code",
   "execution_count": null,
   "id": "3dd7f3c3-4727-4e68-9e5c-eb4670abbb0b",
   "metadata": {},
   "outputs": [],
   "source": [
    "import pickle\n",
    "import re\n",
    "import requests\n",
    "from datetime import datetime\n",
    "import numpy as np\n",
    "import matplotlib.pyplot as plt\n",
    "import random"
   ]
  },
  {
   "cell_type": "code",
   "execution_count": null,
   "id": "1d84b964-6fbc-4e4c-9e58-832458107f56",
   "metadata": {},
   "outputs": [],
   "source": [
    "auth_token=#Put Your AuthCode Here (from https://api.battlecode.org/api/token/)\n",
    "my_team=#Put your team here"
   ]
  },
  {
   "cell_type": "code",
   "execution_count": null,
   "id": "1807827a-c7f2-49b6-b59b-b16bd5318f9d",
   "metadata": {},
   "outputs": [],
   "source": [
    "teams=dict()\n",
    "elos=dict()\n",
    "\n",
    "for i in range(1,1000):\n",
    "    r = requests.get('https://api.battlecode.org/api/team/bc23/t/',params={\"page\":i})\n",
    "    if(r.status_code==200):\n",
    "        for t in r.json()[\"results\"]:\n",
    "            teams[t[\"name\"]]=t[\"id\"]\n",
    "            elos[t[\"id\"]]=t[\"profile\"][\"rating\"]"
   ]
  },
  {
   "cell_type": "code",
   "execution_count": null,
   "id": "fc0209e1-4b82-4de9-bd34-98d0d2128603",
   "metadata": {},
   "outputs": [],
   "source": [
    "print(teams)"
   ]
  },
  {
   "cell_type": "code",
   "execution_count": null,
   "id": "c337458e-56ac-4654-96c8-ef81c402161c",
   "metadata": {},
   "outputs": [],
   "source": [
    "def requestMatch(team, map_names,ranked=False, playerOrder=\"?\"):\n",
    "    #To change player order use \"+\" to make yourself team 1, \"-\" to be team 2 and \"?\" to alternate\n",
    "    params={\n",
    "      \"is_ranked\": ranked,\n",
    "      \"requested_to\": team,\n",
    "      \"player_order\": playerOrder,\n",
    "      \"map_names\": map_names\n",
    "    }\n",
    "    r = requests.post('https://api.battlecode.org/api/compete/bc23/request/',json=params,headers={\"Authorization\": \"Bearer \"+auth_token})\n",
    "    if(r.status_code!=201):\n",
    "        print(r.status_code)\n",
    "        print(r.text)"
   ]
  },
  {
   "cell_type": "code",
   "execution_count": null,
   "id": "134ba8c1-a06b-4534-94fa-6b4b79a0dc74",
   "metadata": {},
   "outputs": [],
   "source": [
    "maps= requests.get('https://api.battlecode.org/api/episode/bc23/map/').json()\n",
    "print(maps)\n",
    "map_names=[]\n",
    "for m in maps:\n",
    "    if(m[\"is_public\"]):\n",
    "        map_names.append(m[\"name\"])"
   ]
  },
  {
   "cell_type": "code",
   "execution_count": null,
   "id": "f890d535-5b73-45c7-97ea-381cf2c05c94",
   "metadata": {},
   "outputs": [],
   "source": [
    "#Request all maps against a single team\n",
    "def requestAllMaps(team,ranked=False,playerOrder=\"?\"):\n",
    "    mapsToUse=set(map_names)\n",
    "    while(len(mapsToUse)>0):\n",
    "        if(len(mapsToUse)>=3):\n",
    "            maps=set(random.sample(mapsToUse, 3))\n",
    "            requestMatch(team,list(maps),ranked=ranked,playerOrder=playerOrder)\n",
    "            mapsToUse-=maps\n",
    "        else:\n",
    "            maps=set(random.sample(mapsToUse, len(mapsToUse)))\n",
    "            maps=maps.union(set(random.sample(set(map_names)-maps, 3-len(maps))))\n",
    "            mapsToUse-=maps\n",
    "            requestMatch(team,list(maps),ranked=ranked,playerOrder=playerOrder)\n",
    "def requestAllMapsByOnes(team,ranked=False,playerOrder=\"?\"):\n",
    "    mapsToUse=map_names\n",
    "    for m in mapsToUse:\n",
    "        requestMatch(team,[m],ranked=ranked,playerOrder=playerOrder)\n",
    "            "
   ]
  },
  {
   "cell_type": "code",
   "execution_count": null,
   "id": "bb74fa31-f01b-4c4d-a6ae-ca37e7152227",
   "metadata": {},
   "outputs": [],
   "source": [
    "#Get teams within N Elo\n",
    "def getComparableTeams(team=\"Blue Dragon\",upperRange=20,lowerRange=20):\n",
    "    team_id=teams[team]\n",
    "    elo=elos[team_id]\n",
    "    comparableTeams=[]\n",
    "    for e in elos.keys():\n",
    "        if(elos[e]<elo+upperRange and elos[e]>elo-lowerRange):\n",
    "            comparableTeams.append(e)\n",
    "    return comparableTeams"
   ]
  },
  {
   "cell_type": "code",
   "execution_count": null,
   "id": "26793faa-fd28-4d6a-b7b2-d9ba9b88fac9",
   "metadata": {},
   "outputs": [],
   "source": []
  },
  {
   "cell_type": "code",
   "execution_count": null,
   "id": "9c325645-3edd-409f-8293-e11512426da9",
   "metadata": {},
   "outputs": [],
   "source": []
  },
  {
   "cell_type": "markdown",
   "id": "2bb1488c-e96e-49cb-b427-73dd94f30341",
   "metadata": {},
   "source": [
    "A few examples of how to run a bunch of matches at once"
   ]
  },
  {
   "cell_type": "code",
   "execution_count": null,
   "id": "ed1ba5a5-7c8f-401d-a9a7-e5453dc0296a",
   "metadata": {},
   "outputs": [],
   "source": [
    "#Queue games against similar elo teams\n",
    "teamsToFight=getComparableTeams(team=my_team,upperRange=100,lowerRange=100)\n",
    "print(\"Number of Teams Queued: \",len(teamsToFight))\n",
    "for team in teamsToFight:\n",
    "    print({v:k for v,k in zip(teams.values(),teams.keys())}[team])\n",
    "    #Randomly choose a single map to play against each\n",
    "    m=random.sample(map_names, 1)\n",
    "    requestMatch(team,map_names=m,ranked=False,playerOrder=\"?\")"
   ]
  },
  {
   "cell_type": "code",
   "execution_count": null,
   "id": "f36d7c59-75bb-49a8-b4b3-9a3e6dc728b6",
   "metadata": {},
   "outputs": [],
   "source": [
    "#If you are interested in a specific team---can be done like this\n",
    "teamToFight=\"Teh Devs\"   \n",
    "#queue a random map\n",
    "m=random.sample(map_names, 1)\n",
    "requestMatch(teams[teamToFight],m,ranked=False,playerOrder=\"?\")"
   ]
  },
  {
   "cell_type": "code",
   "execution_count": null,
   "id": "7a14e53d-8c27-498b-b271-8c6e30293582",
   "metadata": {},
   "outputs": [],
   "source": [
    "#run every map against them 1 by 1 (useful for my future plans)\n",
    "#requestAllMapsByOnes(teams[teamToFight],ranked=False,playerOrder=\"?\")"
   ]
  },
  {
   "cell_type": "code",
   "execution_count": null,
   "id": "a3c67457-e101-471a-9375-83a7d58a12b6",
   "metadata": {},
   "outputs": [],
   "source": [
    "#request all in groups of 3 (default number)\n",
    "#requestAllMaps(teams[teamToFight],ranked=False,playerOrder=\"?\")"
   ]
  },
  {
   "cell_type": "code",
   "execution_count": null,
   "id": "496e4d44-43bf-4d3c-8506-83e84f839e72",
   "metadata": {},
   "outputs": [],
   "source": []
  },
  {
   "cell_type": "raw",
   "id": "2588eedd-2ca2-446d-94f9-e59c31684777",
   "metadata": {},
   "source": []
  },
  {
   "cell_type": "code",
   "execution_count": null,
   "id": "ffa5e0ff-2762-4c99-aa1d-9222d9868203",
   "metadata": {},
   "outputs": [],
   "source": []
  }
 ],
 "metadata": {
  "kernelspec": {
   "display_name": "Python 3 (ipykernel)",
   "language": "python",
   "name": "python3"
  },
  "language_info": {
   "codemirror_mode": {
    "name": "ipython",
    "version": 3
   },
   "file_extension": ".py",
   "mimetype": "text/x-python",
   "name": "python",
   "nbconvert_exporter": "python",
   "pygments_lexer": "ipython3",
   "version": "3.9.7"
  }
 },
 "nbformat": 4,
 "nbformat_minor": 5
}
